{
 "cells": [
  {
   "cell_type": "markdown",
   "metadata": {},
   "source": [
    "Some Data Analysis of the JokeDB (by Yuji Mori)"
   ]
  },
  {
   "cell_type": "markdown",
   "metadata": {},
   "source": [
    "### Summary of Findings:\n",
    "* 22 user profiles must be removed (since they did not rate anything; see below)\n",
    "* User with id=508 sent his/her ratings twice, OR two people share the same ID. Either way, one set must be removed.\n",
    "* Joke ID = 575 could be rated twice (see analysis for details)"
   ]
  },
  {
   "cell_type": "markdown",
   "metadata": {},
   "source": [
    "-----"
   ]
  },
  {
   "cell_type": "code",
   "execution_count": 3,
   "metadata": {
    "collapsed": true
   },
   "outputs": [],
   "source": [
    "import numpy as np\n",
    "import pandas as pd\n",
    "\n",
    "import sqlite3\n",
    "\n",
    "# Exectute SQL commands and store as an sqlite file (newthing.db):\n",
    "qry = open('jokedb.sql', 'r').read()\n",
    "conn = sqlite3.connect('newthing.db')\n",
    "c = conn.cursor()\n",
    "c.executescript(qry)\n",
    "conn.commit()\n",
    "c.close()\n",
    "conn.close()"
   ]
  },
  {
   "cell_type": "code",
   "execution_count": 4,
   "metadata": {
    "collapsed": true
   },
   "outputs": [],
   "source": [
    "conn = sqlite3.connect('newthing.db')"
   ]
  },
  {
   "cell_type": "code",
   "execution_count": 5,
   "metadata": {
    "scrolled": true
   },
   "outputs": [
    {
     "name": "stdout",
     "output_type": "stream",
     "text": [
      "JokeRater\n",
      "sqlite_sequence\n",
      "Joke\n",
      "JokeRating\n"
     ]
    }
   ],
   "source": [
    "# Get table names:\n",
    "res = conn.execute(\"SELECT name FROM sqlite_master WHERE type='table';\")\n",
    "for name in res:\n",
    "    print name[0]"
   ]
  },
  {
   "cell_type": "markdown",
   "metadata": {},
   "source": [
    "--------"
   ]
  },
  {
   "cell_type": "code",
   "execution_count": 55,
   "metadata": {
    "collapsed": true
   },
   "outputs": [],
   "source": [
    "user_df = pd.read_sql_query(\"SELECT * FROM JokeRater\", conn)\n",
    "# Replace empty strings with NaN so pandas can recognize missing values\n",
    "user_df.replace('',np.nan,inplace=True)"
   ]
  },
  {
   "cell_type": "code",
   "execution_count": 34,
   "metadata": {},
   "outputs": [
    {
     "name": "stdout",
     "output_type": "stream",
     "text": [
      "Shape: (117, 11)\n",
      "Column Names: ['id', 'joke_submitter_id', 'gender', 'age', 'birth_country', 'major', 'preferred_joke_genre', 'preferred_joke_genre2', 'preferred_joke_type', 'favorite_music_genre', 'favorite_movie_genre']\n"
     ]
    }
   ],
   "source": [
    "# General information about this table:\n",
    "print \"Shape: {}\".format(user_df.shape)\n",
    "print \"Column Names: {}\".format(list(user_df.columns))"
   ]
  },
  {
   "cell_type": "markdown",
   "metadata": {},
   "source": [
    "-------"
   ]
  },
  {
   "cell_type": "markdown",
   "metadata": {},
   "source": [
    "###  Missing Values per User Feature"
   ]
  },
  {
   "cell_type": "code",
   "execution_count": 56,
   "metadata": {},
   "outputs": [
    {
     "data": {
      "text/plain": [
       "id                        0\n",
       "joke_submitter_id         0\n",
       "gender                    0\n",
       "age                       0\n",
       "birth_country             6\n",
       "major                     0\n",
       "preferred_joke_genre      0\n",
       "preferred_joke_genre2     9\n",
       "preferred_joke_type      11\n",
       "favorite_music_genre      0\n",
       "favorite_movie_genre      0\n",
       "dtype: int64"
      ]
     },
     "execution_count": 56,
     "metadata": {},
     "output_type": "execute_result"
    }
   ],
   "source": [
    "def na_per_feature(column):\n",
    "    '''Determine how many elements in a pd.Series is NaN (missing).'''\n",
    "    return column.isnull().sum()\n",
    "\n",
    "missing_user_features = user_df.apply(na_per_feature,axis=0)\n",
    "\n",
    "missing_user_features"
   ]
  },
  {
   "cell_type": "markdown",
   "metadata": {},
   "source": [
    "**Out of 117 users**,\n",
    "* 6 did not report country of birth\n",
    "* 9 did not report a 2nd preferred joke genre\n",
    "* 11 did not report a preferred joke type"
   ]
  },
  {
   "cell_type": "markdown",
   "metadata": {},
   "source": [
    "----------"
   ]
  },
  {
   "cell_type": "markdown",
   "metadata": {},
   "source": [
    "### Joke ID's: How many people in our class can't follow instructions?\n",
    "ID's must be consistent (1:1) between the ratings form and the user profile form. Check if this is true: "
   ]
  },
  {
   "cell_type": "code",
   "execution_count": 29,
   "metadata": {
    "collapsed": true
   },
   "outputs": [],
   "source": [
    "ratings_df = pd.read_sql_query(\"SELECT * FROM JokeRating\", conn)"
   ]
  },
  {
   "cell_type": "code",
   "execution_count": 60,
   "metadata": {},
   "outputs": [
    {
     "data": {
      "text/plain": [
       "95"
      ]
     },
     "execution_count": 60,
     "metadata": {},
     "output_type": "execute_result"
    }
   ],
   "source": [
    "len(ratings_df['joke_rater_id'].unique())"
   ]
  },
  {
   "cell_type": "markdown",
   "metadata": {},
   "source": [
    "**Though 117 people created user profiles, only 95 people rated jokes.**\n",
    "\n",
    "It may be best to remove these (22) user profiles from the database:"
   ]
  },
  {
   "cell_type": "code",
   "execution_count": 67,
   "metadata": {
    "scrolled": false
   },
   "outputs": [
    {
     "data": {
      "text/plain": [
       "[514,\n",
       " 521,\n",
       " 543,\n",
       " 548,\n",
       " 550,\n",
       " 553,\n",
       " 555,\n",
       " 557,\n",
       " 558,\n",
       " 559,\n",
       " 454,\n",
       " 455,\n",
       " 456,\n",
       " 479,\n",
       " 482,\n",
       " 489,\n",
       " 490,\n",
       " 493,\n",
       " 496,\n",
       " 498,\n",
       " 504,\n",
       " 509]"
      ]
     },
     "execution_count": 67,
     "metadata": {},
     "output_type": "execute_result"
    }
   ],
   "source": [
    "list(set(user_df['id'].unique()) - set(ratings_df['joke_rater_id'].unique()))"
   ]
  },
  {
   "cell_type": "markdown",
   "metadata": {},
   "source": [
    "Conversely, **Every joke rating submission can be traced back to a user profile!** So no ratings need to be deleted (by the Data Team, at least)."
   ]
  },
  {
   "cell_type": "markdown",
   "metadata": {},
   "source": [
    "--------------"
   ]
  },
  {
   "cell_type": "markdown",
   "metadata": {},
   "source": [
    "### How many jokes were rated by each person?"
   ]
  },
  {
   "cell_type": "code",
   "execution_count": 70,
   "metadata": {},
   "outputs": [
    {
     "data": {
      "text/plain": [
       "id               0\n",
       "rating           0\n",
       "joke_id          0\n",
       "joke_rater_id    0\n",
       "dtype: int64"
      ]
     },
     "execution_count": 70,
     "metadata": {},
     "output_type": "execute_result"
    }
   ],
   "source": [
    "# PRE-CHECK\n",
    "# no NaNs exist in this table, which makes things easier.\n",
    "ratings_df.apply(na_per_feature,axis=0)"
   ]
  },
  {
   "cell_type": "code",
   "execution_count": 121,
   "metadata": {},
   "outputs": [],
   "source": [
    "# Count the number of ratings per joke_rater_ID :\n",
    "from collections import Counter\n",
    "\n",
    "# A list of 2-tuples, length (n)\n",
    "ratings_per_user = Counter(ratings_df['joke_rater_id']).items()\n",
    "\n",
    "# A pair of n-tuples (same info as above, just in two separate structures)\n",
    "rater, no_jokes = zip(*Counter(ratings_df['joke_rater_id']).items())"
   ]
  },
  {
   "cell_type": "code",
   "execution_count": 112,
   "metadata": {},
   "outputs": [
    {
     "data": {
      "text/plain": [
       "153"
      ]
     },
     "execution_count": 112,
     "metadata": {},
     "output_type": "execute_result"
    }
   ],
   "source": [
    "# total number of jokes:\n",
    "# WE EXPECT THIS TO BE THE MAXIMUM!\n",
    "len(np.unique(ratings_df['joke_id']))"
   ]
  },
  {
   "cell_type": "markdown",
   "metadata": {},
   "source": [
    "### **PROBLEM:** If there are 153 jokes in the database, how did these people rate 1+ more?"
   ]
  },
  {
   "cell_type": "code",
   "execution_count": 160,
   "metadata": {
    "scrolled": true
   },
   "outputs": [
    {
     "data": {
      "text/plain": [
       "[513,\n",
       " 516,\n",
       " 522,\n",
       " 525,\n",
       " 527,\n",
       " 528,\n",
       " 539,\n",
       " 542,\n",
       " 546,\n",
       " 552,\n",
       " 453,\n",
       " 458,\n",
       " 462,\n",
       " 464,\n",
       " 469,\n",
       " 473,\n",
       " 476,\n",
       " 478,\n",
       " 480,\n",
       " 483,\n",
       " 506,\n",
       " 508]"
      ]
     },
     "execution_count": 160,
     "metadata": {},
     "output_type": "execute_result"
    }
   ],
   "source": [
    "# How did these people rate more jokes than available?\n",
    "# np.where(np.array(no_jokes)>153)[0]\n",
    "[rater[i] for i in np.where(np.array(no_jokes)>153)[0]]"
   ]
  },
  {
   "cell_type": "markdown",
   "metadata": {},
   "source": [
    "**FIRST CASE**: One person rated over 300 jokes. Most likely, they submitted the form twice. Let's check:"
   ]
  },
  {
   "cell_type": "code",
   "execution_count": 175,
   "metadata": {},
   "outputs": [
    {
     "data": {
      "text/plain": [
       "306"
      ]
     },
     "execution_count": 175,
     "metadata": {},
     "output_type": "execute_result"
    }
   ],
   "source": [
    "user_df[user_df['id']==508]\n",
    "\n",
    "# all ratings by the user with id=508\n",
    "ratings_508 = ratings_df[ratings_df['joke_rater_id']==508]\n",
    "# we want to know if the jokes are unique or not\n",
    "len(ratings_508)"
   ]
  },
  {
   "cell_type": "code",
   "execution_count": 135,
   "metadata": {
    "scrolled": true
   },
   "outputs": [
    {
     "data": {
      "text/plain": [
       "153"
      ]
     },
     "execution_count": 135,
     "metadata": {},
     "output_type": "execute_result"
    }
   ],
   "source": [
    "len(np.unique(ratings_508['joke_id']))"
   ]
  },
  {
   "cell_type": "markdown",
   "metadata": {},
   "source": [
    "So yes, he/she submitted the form twice."
   ]
  },
  {
   "cell_type": "markdown",
   "metadata": {},
   "source": [
    "**SECOND CASE:** Everyone else in the list had one extra joke rating. To investigate, we must compare the joke ID's in the ratings table to the joke ID's in the joke table: "
   ]
  },
  {
   "cell_type": "code",
   "execution_count": 187,
   "metadata": {
    "collapsed": true
   },
   "outputs": [],
   "source": [
    "# first just visually investigate one of the cases: \n",
    "ratings_513 = ratings_df[ratings_df['joke_rater_id']==513]"
   ]
  },
  {
   "cell_type": "code",
   "execution_count": 188,
   "metadata": {},
   "outputs": [
    {
     "data": {
      "text/plain": [
       "(154, 4)"
      ]
     },
     "execution_count": 188,
     "metadata": {},
     "output_type": "execute_result"
    }
   ],
   "source": [
    "# Check for duplicate rows within entire dataset:\n",
    "ratings_513_dropped = ratings_513.drop_duplicates()\n",
    "ratings_513_dropped.shape\n",
    "# No pure duplicates found!"
   ]
  },
  {
   "cell_type": "code",
   "execution_count": 189,
   "metadata": {},
   "outputs": [
    {
     "data": {
      "text/plain": [
       "id               154\n",
       "rating             5\n",
       "joke_id          153\n",
       "joke_rater_id      1\n",
       "dtype: int64"
      ]
     },
     "execution_count": 189,
     "metadata": {},
     "output_type": "execute_result"
    }
   ],
   "source": [
    "# Now check each column for duplicate values:\n",
    "def howlong(column):\n",
    "    '''Check how many unique values exist in each column:'''\n",
    "    return(len(np.unique(column)))\n",
    "\n",
    "ratings_513.apply(howlong)"
   ]
  },
  {
   "cell_type": "markdown",
   "metadata": {},
   "source": [
    "So, we can hypothesize that two ratings point to a single joke. To pinpoint the problem:"
   ]
  },
  {
   "cell_type": "code",
   "execution_count": 192,
   "metadata": {},
   "outputs": [
    {
     "data": {
      "text/html": [
       "<div>\n",
       "<style>\n",
       "    .dataframe thead tr:only-child th {\n",
       "        text-align: right;\n",
       "    }\n",
       "\n",
       "    .dataframe thead th {\n",
       "        text-align: left;\n",
       "    }\n",
       "\n",
       "    .dataframe tbody tr th {\n",
       "        vertical-align: top;\n",
       "    }\n",
       "</style>\n",
       "<table border=\"1\" class=\"dataframe\">\n",
       "  <thead>\n",
       "    <tr style=\"text-align: right;\">\n",
       "      <th></th>\n",
       "      <th>id</th>\n",
       "      <th>rating</th>\n",
       "      <th>joke_id</th>\n",
       "      <th>joke_rater_id</th>\n",
       "    </tr>\n",
       "  </thead>\n",
       "  <tbody>\n",
       "    <tr>\n",
       "      <th>4049</th>\n",
       "      <td>47352</td>\n",
       "      <td>3</td>\n",
       "      <td>575</td>\n",
       "      <td>513</td>\n",
       "    </tr>\n",
       "    <tr>\n",
       "      <th>4138</th>\n",
       "      <td>47441</td>\n",
       "      <td>1</td>\n",
       "      <td>575</td>\n",
       "      <td>513</td>\n",
       "    </tr>\n",
       "  </tbody>\n",
       "</table>\n",
       "</div>"
      ],
      "text/plain": [
       "         id  rating  joke_id  joke_rater_id\n",
       "4049  47352       3      575            513\n",
       "4138  47441       1      575            513"
      ]
     },
     "execution_count": 192,
     "metadata": {},
     "output_type": "execute_result"
    }
   ],
   "source": [
    "mask = ratings_513['joke_id'].duplicated(keep=False)\n",
    "ratings_513[mask]"
   ]
  },
  {
   "cell_type": "markdown",
   "metadata": {},
   "source": [
    "**Is this (duplication of joke_id=575) true for every case?**"
   ]
  },
  {
   "cell_type": "code",
   "execution_count": 213,
   "metadata": {
    "collapsed": true
   },
   "outputs": [],
   "source": [
    "def check_double_up(rater_id):\n",
    "    ratings_subset = ratings_df[ratings_df['joke_rater_id']==rater_id]\n",
    "    mask_i = ratings_subset['joke_id'].duplicated(keep=False)\n",
    "    double_up = np.unique(ratings_subset[mask_i]['joke_id'])\n",
    "    return double_up"
   ]
  },
  {
   "cell_type": "code",
   "execution_count": 215,
   "metadata": {},
   "outputs": [
    {
     "data": {
      "text/plain": [
       "[array([575]),\n",
       " array([575]),\n",
       " array([575]),\n",
       " array([575]),\n",
       " array([575]),\n",
       " array([575]),\n",
       " array([575]),\n",
       " array([575]),\n",
       " array([575]),\n",
       " array([575]),\n",
       " array([575]),\n",
       " array([575]),\n",
       " array([575]),\n",
       " array([575]),\n",
       " array([575]),\n",
       " array([575]),\n",
       " array([575]),\n",
       " array([575]),\n",
       " array([575]),\n",
       " array([575]),\n",
       " array([575])]"
      ]
     },
     "execution_count": 215,
     "metadata": {},
     "output_type": "execute_result"
    }
   ],
   "source": [
    "double_candidates = [rater[i] for i in np.where(np.array(no_jokes)>153)[0]]\n",
    "double_candidates_no508 = [x for x in double_candidates if x != 508]\n",
    "[check_double_up(i) for i in double_candidates_no508]"
   ]
  },
  {
   "cell_type": "markdown",
   "metadata": {},
   "source": [
    "-----------"
   ]
  },
  {
   "cell_type": "markdown",
   "metadata": {},
   "source": [
    "For now, let's just remove the big outlier (joke rater 508) and make a density plot:"
   ]
  },
  {
   "cell_type": "code",
   "execution_count": 204,
   "metadata": {},
   "outputs": [],
   "source": [
    "rating_count_plotting = [x for x in list(no_jokes) if x <= 153]"
   ]
  },
  {
   "cell_type": "code",
   "execution_count": 205,
   "metadata": {
    "scrolled": true
   },
   "outputs": [
    {
     "data": {
      "text/plain": [
       "<matplotlib.axes._subplots.AxesSubplot at 0x1154eec10>"
      ]
     },
     "execution_count": 205,
     "metadata": {},
     "output_type": "execute_result"
    },
    {
     "data": {
      "image/png": "[encoded data removed]",
      "text/plain": [
       "<matplotlib.figure.Figure at 0x1154f9c90>"
      ]
     },
     "metadata": {},
     "output_type": "display_data"
    }
   ],
   "source": [
    "%matplotlib inline\n",
    "import matplotlib.pyplot as plt\n",
    "import seaborn as sns\n",
    "sns.distplot(rating_count_plotting,hist=True,kde=True)"
   ]
  }
 ],
 "metadata": {
  "anaconda-cloud": {},
  "kernelspec": {
   "display_name": "Python [conda env:python2]",
   "language": "python",
   "name": "conda-env-python2-py"
  },
  "language_info": {
   "codemirror_mode": {
    "name": "ipython",
    "version": 2
   },
   "file_extension": ".py",
   "mimetype": "text/x-python",
   "name": "python",
   "nbconvert_exporter": "python",
   "pygments_lexer": "ipython2",
   "version": "2.7.12"
  }
 },
 "nbformat": 4,
 "nbformat_minor": 1
}
